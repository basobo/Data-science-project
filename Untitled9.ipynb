{
 "cells": [
  {
   "cell_type": "code",
   "execution_count": 5,
   "metadata": {},
   "outputs": [],
   "source": [
    "from tkinter import *\n",
    "import pandas as pd\n"
   ]
  },
  {
   "cell_type": "code",
   "execution_count": 15,
   "metadata": {},
   "outputs": [],
   "source": [
    "def submit_fields():\n",
    "    path='Mentors.xlsx'\n",
    "    df1=pd.read_excel(path)\n",
    "    SeriesA=df1['name']\n",
    "    SeriesB=df1['Address']\n",
    "    SeriesC=df1['Phone number']\n",
    "    SeriesD=df1['Speciality']\n",
    "    SeriesE=df1['Domain for Expertise']\n",
    "    A=pd.Series(entry1.get())\n",
    "    B=pd.Series(entry2.get())\n",
    "    C=pd.Series(entry3.get())\n",
    "    D=pd.Series(entry4.get())\n",
    "    E=pd.Series(entry5.get())\n",
    "    SeriesA=SeriesA.append(A)\n",
    "    SeriesB=SeriesB.append(B)\n",
    "    SeriesC=SeriesC.append(C)\n",
    "    SeriesD=SeriesD.append(D)\n",
    "    SeriesE=SeriesE.append(E)\n",
    "    df2=pd.DataFrame({\"name\":SeriesA, \"Address\":SeriesB, \"Phone number\":SeriesC,\"Speciality\":SeriesD, \"Domain for Expertise\":SeriesE})\n",
    "    df2.to_excel(path,index=False)\n",
    "    entry1.delete(0,END)\n",
    "    entry2.delete(0,END)\n"
   ]
  },
  {
   "cell_type": "code",
   "execution_count": 16,
   "metadata": {},
   "outputs": [],
   "source": [
    "master=Tk()\n",
    "Label(master,text='name').grid(row=0)\n",
    "Label(master,text='Address').grid(row=1)\n",
    "Label(master,text='Phone number').grid(row=2)\n",
    "Label(master,text='Speciality').grid(row=3)\n",
    "Label(master,text='Domain for help').grid(row=4)"
   ]
  },
  {
   "cell_type": "code",
   "execution_count": 17,
   "metadata": {},
   "outputs": [],
   "source": [
    "entry1=Entry(master)\n",
    "entry2=Entry(master)\n",
    "entry3=Entry(master)\n",
    "entry4=Entry(master)\n",
    "entry5=Entry(master)"
   ]
  },
  {
   "cell_type": "code",
   "execution_count": 18,
   "metadata": {},
   "outputs": [],
   "source": [
    "entry1.grid(row=0, column=1)\n",
    "entry2.grid(row=1, column=1)\n",
    "entry1.grid(row=2, column=1)\n",
    "entry1.grid(row=3, column=1)\n",
    "entry1.grid(row=4, column=1)"
   ]
  },
  {
   "cell_type": "code",
   "execution_count": null,
   "metadata": {},
   "outputs": [],
   "source": [
    "Button(master,text='Quit', command=master.quit).grid(row=5, column=0, pady=4)\n",
    "Button(master,text='submit', command=submit_fields).grid(row=5, column=1, pady=4)\n",
    "mainloop()"
   ]
  },
  {
   "cell_type": "code",
   "execution_count": null,
   "metadata": {},
   "outputs": [],
   "source": []
  },
  {
   "cell_type": "code",
   "execution_count": null,
   "metadata": {},
   "outputs": [],
   "source": []
  }
 ],
 "metadata": {
  "kernelspec": {
   "display_name": "Python 3",
   "language": "python",
   "name": "python3"
  },
  "language_info": {
   "codemirror_mode": {
    "name": "ipython",
    "version": 3
   },
   "file_extension": ".py",
   "mimetype": "text/x-python",
   "name": "python",
   "nbconvert_exporter": "python",
   "pygments_lexer": "ipython3",
   "version": "3.7.6"
  }
 },
 "nbformat": 4,
 "nbformat_minor": 4
}
